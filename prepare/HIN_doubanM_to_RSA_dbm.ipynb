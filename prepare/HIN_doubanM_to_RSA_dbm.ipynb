{
 "cells": [
  {
   "cell_type": "markdown",
   "metadata": {},
   "source": [
    "#  将 HIN douban movie 数据集 转换为 RSA dbm 数据集\n",
    "\n",
    "```\n",
    "下载准备好 HIN 数据集后，运行此 notebook ，将生成 dbm 数据集的 3 个 数据文件。 \n",
    "\n",
    "utility.cuc_stat.py - INFO - === 数据集评分统计信息 ../data/dbm_ratings.txt ===\n",
    "utility.cuc_stat.py - INFO -  m    *     n            数据量   稀疏度 (%) \n",
    "utility.cuc_stat.py - INFO - 1384 *     2070       43873  1.531408  \n",
    "utility.cuc_stat.py - INFO - === 数据集评分统计信息 ../data/dbm_trust.txt ===\n",
    "utility.cuc_stat.py - INFO -  m    *     n            数据量   稀疏度 (%) \n",
    "utility.cuc_stat.py - INFO - 1384 *     1764        2618  0.107235  \n",
    "utility.cuc_stat.py - INFO - === 数据集评分统计信息 ../data/dbm_meta.txt ===\n",
    "utility.cuc_stat.py - INFO -  m    *     n            数据量   稀疏度 (%) \n",
    "utility.cuc_stat.py - INFO - 2070 *       25        2440  4.714976  \n",
    "\n",
    "修改 configx.py self.dataset_name 以及 cross_validate.py 即可进行实验\n",
    "```"
   ]
  },
  {
   "cell_type": "code",
   "execution_count": null,
   "metadata": {},
   "outputs": [],
   "source": []
  },
  {
   "cell_type": "code",
   "execution_count": null,
   "metadata": {},
   "outputs": [],
   "source": []
  },
  {
   "cell_type": "code",
   "execution_count": 1,
   "metadata": {},
   "outputs": [
    {
     "name": "stdout",
     "output_type": "stream",
     "text": [
      "OK. HIN 目录已发现 ...\n",
      "\n",
      " config 预设值的文件信息为 \n",
      "../data/db_trust.txt\n",
      "../data/db_ratings.txt\n",
      "../data/db_meta.txt\n",
      "\n",
      " HIN 路径文件  ../../HIN/\n",
      "movie_actor.dat     movie_type.dat  user_group.dat  user_user.dat\r\n",
      "movie_director.dat  README          user_movie.dat\r\n"
     ]
    }
   ],
   "source": [
    "import sys,os\n",
    "sys.path.append(\"..\")\n",
    "from utility.cross_validation import split_5_folds\n",
    "from utility.cuc_stat import print_dataframe_stats, print_data_file_stats\n",
    "\n",
    "# 设置好 HIN 路径\n",
    "HIN_path = \"../../HIN/\"\n",
    "# orignal_path = HIN_path + \"/Douban Book/\" \n",
    "orignal_path = HIN_path + \"/Douban Movie/\" \n",
    "\n",
    "def download_rating_from_HIN():\n",
    "    \"\"\"\n",
    "    先下载准备好 HIN 数据集\n",
    "    \"\"\"\n",
    "    if not os.path.isdir(HIN_path):\n",
    "        print(\"ERROR: 找不到 HIN 目录； 请先下载 please download HIN dataset first!\")\n",
    "        print(\"可使用如下命令: \")\n",
    "        print(\"cd ../..\")\n",
    "        print(\"git clone https://github.com/librahu/HIN-Datasets-for-Recommendation-and-Network-Embedding HIN\")\n",
    "    else:\n",
    "        print (\"OK. HIN 目录已发现 ...\")\n",
    "\n",
    "download_rating_from_HIN()\n",
    "\n",
    "import pandas as pd\n",
    "from configx.configx import ConfigX\n",
    "\n",
    "config = ConfigX(dataset_name=\"db\")\n",
    "\n",
    "print (\"\\n config 预设值的文件信息为 \")\n",
    "print (config.trust_path)\n",
    "print (config.rating_path)\n",
    "print (config.meta_path)\n",
    "# print (config.igraph_path)\n",
    "# print (config.ugraph_path)\n",
    "\n",
    "print (\"\\n HIN 路径文件 \", HIN_path)\n",
    "%ls \"$orignal_path\""
   ]
  },
  {
   "cell_type": "code",
   "execution_count": 2,
   "metadata": {},
   "outputs": [
    {
     "name": "stderr",
     "output_type": "stream",
     "text": [
      "utility.cuc_stat.py - INFO - === 数据集评分统计信息 ../data/db_ratings.txt ===\n",
      "utility.cuc_stat.py - INFO -  m    *     n            数据量   稀疏度 (%) \n",
      "utility.cuc_stat.py - INFO - 13367 *    12677     1068278  0.630426  \n",
      "utility.cuc_stat.py - INFO - === 数据集评分统计信息 ../data/db_trust.txt ===\n",
      "utility.cuc_stat.py - INFO -  m    *     n            数据量   稀疏度 (%) \n",
      "utility.cuc_stat.py - INFO - 2440 *     2294        4085  0.072981  \n"
     ]
    },
    {
     "name": "stdout",
     "output_type": "stream",
     "text": [
      "\n",
      "###  ../../HIN//Douban Movie/ rating 样例 ...\n",
      "      0  1  2\n",
      "0  2681  1  2\n",
      "1  3574  1  4\n",
      "2  7078  1  4\n",
      "3  9782  1  3\n",
      "4  9885  1  3\n",
      "\n",
      "###  ../../HIN//Douban Movie/ trust 样例 ...\n",
      "       0   1  2\n",
      "0     25   2  1\n",
      "1    448   9  1\n",
      "2  12574  10  1\n",
      "3  11469  15  1\n",
      "4   5728  17  1\n"
     ]
    }
   ],
   "source": [
    "all_rating = {}\n",
    "all_trust = {}\n",
    "all_meta = {}\n",
    "\n",
    "        \n",
    "def prepare_rating_from_HIN():\n",
    "    \"\"\"\n",
    "    预处理生成 rating 数据\n",
    "    \"\"\"\n",
    "\n",
    "    dpath = orignal_path + \"user_movie.dat\"\n",
    "    df = pd.read_csv(dpath, sep='\\t', header=None)\n",
    "    # print (\"\\n###  %s  统计  ...\" % dpath)\n",
    "    # print_data_num(dpath, df)\n",
    "    # 将播放数量 进行 max - min 处理\n",
    "    # df[2] = df[2] / (df[2].max() - df[2].min())\n",
    "    print (\"\\n###  %s rating 样例 ...\" % orignal_path)\n",
    "    print(df.head())\n",
    "#   print (\"\\n###  写入 %s dataset  ...\" % config.rating_path)\n",
    "#   不覆盖原有的 rating\n",
    "#     df.to_csv(config.rating_path, sep=' ', header=None, index=None)\n",
    "    \n",
    "    print_dataframe_stats(df, dpath=config.rating_path)\n",
    "    return df\n",
    "\n",
    "def prepare_trust_from_HIN():\n",
    "    \"\"\"\n",
    "    预处理生成 trust 数据\n",
    "    \"\"\"\n",
    "    dpath = orignal_path + \"user_user.dat\"\n",
    "    df = pd.read_csv(dpath, sep='\\t', header=None)\n",
    "    \n",
    "    # 将播放数量 进行 max - min 处理\n",
    "    # df[2] = df[2] / (df[2].max() - df[2].min())\n",
    "    # df[2] = 1 # 补充 社交数据 # douban movie 有数据 1， douban book 没有, 需要补 1； \n",
    "    print (\"\\n###  %s trust 样例 ...\" % orignal_path)\n",
    "    print(df.head())\n",
    "#     print (\"\\n###  写入 %s dataset  ...\" % config.trust_path)\n",
    "#   不覆盖原有的 trust\n",
    "#     df.to_csv(config.trust_path, sep=' ', header=None, index=None)\n",
    "    print_dataframe_stats(df, dpath=config.trust_path)\n",
    "    return df\n",
    "\n",
    "def print_data_num(dpath, data):\n",
    "    \"\"\"\n",
    "    旧的打印函数，不再使用了\n",
    "    \"\"\"\n",
    "    print(\"total(rating/...): \", len(data))\n",
    "    print(\"col0 (user) \\tnum: \\t\", len(data[0].unique()))\n",
    "    print(\"col1 (item/user/...) num: \", len(data[1].unique()))\n",
    "    \n",
    "\n",
    "all_rating = prepare_rating_from_HIN()\n",
    "all_trust = prepare_trust_from_HIN()"
   ]
  },
  {
   "cell_type": "code",
   "execution_count": 3,
   "metadata": {},
   "outputs": [
    {
     "name": "stdout",
     "output_type": "stream",
     "text": [
      "movie_actor.dat     movie_type.dat  user_group.dat  user_user.dat\r\n",
      "movie_director.dat  README          user_movie.dat\r\n"
     ]
    }
   ],
   "source": [
    "%ls \"$orignal_path/\""
   ]
  },
  {
   "cell_type": "markdown",
   "metadata": {},
   "source": [
    "## 默认使用的是 movie_type，  还可使用的 movie_actor, movie_director 数据，对比推荐效果"
   ]
  },
  {
   "cell_type": "code",
   "execution_count": 4,
   "metadata": {},
   "outputs": [
    {
     "name": "stdout",
     "output_type": "stream",
     "text": [
      "\n",
      "###  ../../HIN//Douban Movie/movie_type.dat  统计  ...\n",
      "\n",
      "###  ../../HIN//Douban Movie/ dataset 样例 ...\n",
      "       0  1  2\n",
      "0   2087  1  1\n",
      "1   7001  1  1\n",
      "2  10099  1  1\n",
      "3  10100  1  1\n",
      "4  10125  1  1\n",
      "\n",
      "###  !!! 从 ../../HIN//Douban Movie/movie_type.dat 覆盖 写入 ../data/db_meta.txt dataset  ...\n"
     ]
    },
    {
     "name": "stderr",
     "output_type": "stream",
     "text": [
      "utility.cuc_stat.py - INFO - === 数据集评分统计信息 ../../HIN//Douban Movie/movie_type.dat ===\n",
      "utility.cuc_stat.py - INFO -  m    *     n            数据量   稀疏度 (%) \n",
      "utility.cuc_stat.py - INFO - 12676 *       38       27668  5.743967  \n"
     ]
    }
   ],
   "source": [
    "def prepare_meta_from_HIN(dpath):\n",
    "    \"\"\"\n",
    "    预处理生成 meta 数据\n",
    "    \"\"\"\n",
    "    df = pd.read_csv(dpath, sep='\\t', header=None)\n",
    "    print (\"\\n###  %s  统计  ...\" % dpath)\n",
    "#     print_data_num(dpath, df)\n",
    "    # 将播放数量 进行 max - min 处理\n",
    "    # df[2] = df[2] / (df[2].max() - df[2].min())\n",
    "#     df[2] = 1 # 补充 社交数据 # douban movie 有数据 1， douban book 没有, 需要补 1； \n",
    "    print (\"\\n###  %s dataset 样例 ...\" % orignal_path)\n",
    "    print(df.head())\n",
    "    print (\"\\n###  !!! 从 %s 覆盖 写入 %s dataset  ...\" % (dpath, config.meta_path))\n",
    "    df.to_csv(config.meta_path, sep=' ', header=None, index=None)\n",
    "    print_dataframe_stats(df, dpath = dpath)\n",
    "    return df \n",
    "\n",
    "# 打印并写入不同文件， 最后写入的为 movie_type\n",
    "# prepare_meta_from_HIN(orignal_path + \"movie_actor.dat\")\n",
    "# prepare_meta_from_HIN(orignal_path + \"movie_director.dat\")\n",
    "all_meta = prepare_meta_from_HIN(orignal_path + \"movie_type.dat\")"
   ]
  },
  {
   "cell_type": "code",
   "execution_count": 5,
   "metadata": {},
   "outputs": [
    {
     "name": "stderr",
     "output_type": "stream",
     "text": [
      "utility.cuc_stat.py - INFO - === 数据集评分统计信息 rating ===\n",
      "utility.cuc_stat.py - INFO -  m    *     n            数据量   稀疏度 (%) \n",
      "utility.cuc_stat.py - INFO - 13367 *    12677     1068278  0.630426  \n",
      "utility.cuc_stat.py - INFO - === 数据集评分统计信息 trust ===\n",
      "utility.cuc_stat.py - INFO -  m    *     n            数据量   稀疏度 (%) \n",
      "utility.cuc_stat.py - INFO - 2440 *     2294        4085  0.072981  \n",
      "utility.cuc_stat.py - INFO - === 数据集评分统计信息 meta ===\n",
      "utility.cuc_stat.py - INFO -  m    *     n            数据量   稀疏度 (%) \n",
      "utility.cuc_stat.py - INFO - 12676 *       38       27668  5.743967  \n"
     ]
    }
   ],
   "source": [
    "print_dataframe_stats(all_rating, dpath=\"rating\")\n",
    "print_dataframe_stats(all_trust, dpath=\"trust\")\n",
    "print_dataframe_stats(all_meta, dpath=\"meta\")"
   ]
  },
  {
   "cell_type": "markdown",
   "metadata": {},
   "source": [
    "## 参考 filetrust (m *  n = 1,508\t* 2,071) 数据大小进行裁剪\n",
    "\n",
    "\n"
   ]
  },
  {
   "cell_type": "code",
   "execution_count": 6,
   "metadata": {},
   "outputs": [
    {
     "name": "stdout",
     "output_type": "stream",
     "text": [
      "交集后的有信任用户数:  1592\n"
     ]
    },
    {
     "name": "stderr",
     "output_type": "stream",
     "text": [
      "utility.cuc_stat.py - INFO - === 数据集评分统计信息 dbm 保留有 trust 数据的rating ===\n",
      "utility.cuc_stat.py - INFO -  m    *     n            数据量   稀疏度 (%) \n",
      "utility.cuc_stat.py - INFO - 1592 *     9941      242576  1.532762  \n",
      "utility.cuc_stat.py - INFO - === 数据集评分统计信息 dbm 保留都有 trust 数据的 trust ===\n",
      "utility.cuc_stat.py - INFO -  m    *     n            数据量   稀疏度 (%) \n",
      "utility.cuc_stat.py - INFO - 1592 *     1936        2960  0.096038  \n"
     ]
    }
   ],
   "source": [
    "\n",
    "len(all_trust[1].unique())\n",
    "dbm_trust= all_trust[all_trust[0].isin(all_trust[1])]\n",
    "print(\"交集后的有信任用户数: \" , dbm_trust[0].unique().size)\n",
    "\n",
    "\n",
    "dbm_rating_trust = all_rating[all_rating[0].isin(dbm_trust[0])]\n",
    "print_dataframe_stats(dbm_rating_trust, dpath=\"dbm 保留有 trust 数据的rating\")\n",
    "print_dataframe_stats(dbm_trust, dpath=\"dbm 保留都有 trust 数据的 trust\")"
   ]
  },
  {
   "cell_type": "code",
   "execution_count": 7,
   "metadata": {},
   "outputs": [
    {
     "name": "stdout",
     "output_type": "stream",
     "text": [
      "对 meta serail 进行排序与汇总\n"
     ]
    },
    {
     "data": {
      "text/plain": [
       "1\n",
       "7     7384\n",
       "13    3670\n",
       "27    2599\n",
       "8     2011\n",
       "28    1509\n",
       "20    1397\n",
       "6     1071\n",
       "9      938\n",
       "18     937\n",
       "16     782\n",
       "Name: 0, dtype: int64"
      ]
     },
     "execution_count": 7,
     "metadata": {},
     "output_type": "execute_result"
    }
   ],
   "source": [
    "print (\"对 meta serail 进行排序与汇总\")\n",
    "meta_serial = all_meta.groupby(all_meta[1]).count()[0].sort_values(ascending=False)\n",
    "meta_serial.head(10)"
   ]
  },
  {
   "cell_type": "markdown",
   "metadata": {},
   "source": [
    "## 选择 COUNT 值，使其筛选后， 接近 FilmTrust 数据规模"
   ]
  },
  {
   "cell_type": "code",
   "execution_count": 8,
   "metadata": {},
   "outputs": [
    {
     "name": "stderr",
     "output_type": "stream",
     "text": [
      "utility.cuc_stat.py - INFO - === 数据集评分统计信息 dbm 保留 COUNT < 500 的 meta 数据  ===\n",
      "utility.cuc_stat.py - INFO -  m    *     n            数据量   稀疏度 (%) \n",
      "utility.cuc_stat.py - INFO - 2747 *       25        3235  4.710593  \n",
      "utility.cuc_stat.py - INFO - === 数据集评分统计信息 dbm 最终保留有 trust 和 filter meta 数据的rating ===\n",
      "utility.cuc_stat.py - INFO -  m    *     n            数据量   稀疏度 (%) \n",
      "utility.cuc_stat.py - INFO - 1384 *     2070       43873  1.531408  \n"
     ]
    },
    {
     "name": "stdout",
     "output_type": "stream",
     "text": [
      "保留 25 个 meta, 原始 38 个 meta\n"
     ]
    }
   ],
   "source": [
    "COUNT=500\n",
    "filter_meta_serial =  meta_serial[meta_serial < COUNT]\n",
    "print(\"保留 %s 个 meta, 原始 %s 个 meta\" % (filter_meta_serial.size, meta_serial.size))\n",
    "\n",
    "# 将 meta count 值修改为value 值, 便于使用 is_in 筛选\n",
    "for key in filter_meta_serial.keys():\n",
    "    filter_meta_serial[key]=key\n",
    "dbm_meta = all_meta[all_meta[1].isin(filter_meta_serial)]\n",
    "print_dataframe_stats(dbm_meta, dpath=\"dbm 保留 COUNT < %s 的 meta 数据 \" % COUNT)\n",
    "dbm_rating = dbm_rating_trust[dbm_rating_trust[1].isin(dbm_meta[0]) ]\n",
    "print_dataframe_stats(dbm_rating, dpath=\"dbm 最终保留有 trust 和 filter meta 数据的rating\")"
   ]
  },
  {
   "cell_type": "markdown",
   "metadata": {},
   "source": [
    "## 注意这里需要统一 user/item 的对照，否则可能会计算 key 错误"
   ]
  },
  {
   "cell_type": "code",
   "execution_count": 9,
   "metadata": {},
   "outputs": [],
   "source": [
    "item_ids = pd.Series(list(set(dbm_meta[0]).intersection(set(all_rating[1].unique()))))\n",
    "user_ids = pd.Series(list(set(dbm_rating_trust[0]).intersection(set(all_rating[0].unique()))))\n",
    "dbm_rating = dbm_rating_trust[dbm_rating_trust[0].isin(user_ids)]\n",
    "dbm_rating = dbm_rating[dbm_rating[1].isin(item_ids)]\n",
    "# 统一 item 映射尺寸\n",
    "dbm_meta = dbm_meta[dbm_meta[0].isin(dbm_rating[1])]\n",
    "# 统一 trust 映射尺寸\n",
    "dbm_trust = dbm_trust[dbm_trust[0].isin(dbm_rating[0])]\n",
    "# print_dataframe_stats(dbm_rating, dpath=\"dbm 最终保留有 trust 和 filter meta 数据的rating\")"
   ]
  },
  {
   "cell_type": "markdown",
   "metadata": {},
   "source": [
    "## 写入新的 dbm 数据集"
   ]
  },
  {
   "cell_type": "code",
   "execution_count": 10,
   "metadata": {},
   "outputs": [
    {
     "name": "stderr",
     "output_type": "stream",
     "text": [
      "utility.cuc_stat.py - INFO - === 数据集评分统计信息 dbm rating ===\n",
      "utility.cuc_stat.py - INFO -  m    *     n            数据量   稀疏度 (%) \n",
      "utility.cuc_stat.py - INFO - 1384 *     2070       43873  1.531408  \n",
      "utility.cuc_stat.py - INFO - === 数据集评分统计信息 dbm trust ===\n",
      "utility.cuc_stat.py - INFO -  m    *     n            数据量   稀疏度 (%) \n",
      "utility.cuc_stat.py - INFO - 1384 *     1764        2618  0.107235  \n",
      "utility.cuc_stat.py - INFO - === 数据集评分统计信息 dbm meta ===\n",
      "utility.cuc_stat.py - INFO -  m    *     n            数据量   稀疏度 (%) \n",
      "utility.cuc_stat.py - INFO - 2070 *       25        2440  4.714976  \n"
     ]
    },
    {
     "name": "stdout",
     "output_type": "stream",
     "text": [
      "\n",
      " config2 预设值的文件信息为 \n",
      "../data/dbm_trust.txt\n",
      "../data/dbm_ratings.txt\n",
      "../data/dbm_meta.txt\n"
     ]
    }
   ],
   "source": [
    "config2 = ConfigX(dataset_name=\"dbm\")\n",
    "\n",
    "print (\"\\n config2 预设值的文件信息为 \")\n",
    "print (config2.trust_path)\n",
    "print (config2.rating_path)\n",
    "print (config2.meta_path)\n",
    "print_dataframe_stats(dbm_rating, dpath=\"dbm rating\")\n",
    "print_dataframe_stats(dbm_trust, dpath=\"dbm trust\")\n",
    "print_dataframe_stats(dbm_meta, dpath=\"dbm meta\")"
   ]
  },
  {
   "cell_type": "code",
   "execution_count": 11,
   "metadata": {},
   "outputs": [
    {
     "name": "stderr",
     "output_type": "stream",
     "text": [
      "utility.cuc_stat.py - INFO - === 数据集评分统计信息 ../data/dbm_ratings.txt ===\n",
      "utility.cuc_stat.py - INFO -  m    *     n            数据量   稀疏度 (%) \n",
      "utility.cuc_stat.py - INFO - 1384 *     2070       43873  1.531408  \n",
      "utility.cuc_stat.py - INFO - === 数据集评分统计信息 ../data/dbm_trust.txt ===\n",
      "utility.cuc_stat.py - INFO -  m    *     n            数据量   稀疏度 (%) \n",
      "utility.cuc_stat.py - INFO - 1384 *     1764        2618  0.107235  \n",
      "utility.cuc_stat.py - INFO - === 数据集评分统计信息 ../data/dbm_meta.txt ===\n",
      "utility.cuc_stat.py - INFO -  m    *     n            数据量   稀疏度 (%) \n",
      "utility.cuc_stat.py - INFO - 2070 *       25        2440  4.714976  \n"
     ]
    },
    {
     "name": "stdout",
     "output_type": "stream",
     "text": [
      "保存 dbm 数据集 成功，请修改 configx.py self.dataset_name 以及 cross_validate.py 以进行实验 .. \n"
     ]
    }
   ],
   "source": [
    "# 写入\n",
    "dbm_rating.to_csv(config2.rating_path, sep=' ', header=None, index=None)\n",
    "dbm_trust.to_csv(config2.trust_path, sep=' ', header=None, index=None)\n",
    "dbm_meta.to_csv(config2.meta_path, sep=' ', header=None, index=None)\n",
    "print(\"保存 %s 数据集 成功，请修改 configx.py self.dataset_name 以及 cross_validate.py 以进行实验 .. \" % config2.dataset_name)\n",
    "\n",
    "print_data_file_stats(config2.rating_path)\n",
    "print_data_file_stats(config2.trust_path)\n",
    "print_data_file_stats(config2.meta_path)"
   ]
  }
 ],
 "metadata": {
  "kernelspec": {
   "display_name": "Python 3",
   "language": "python",
   "name": "python3"
  },
  "language_info": {
   "codemirror_mode": {
    "name": "ipython",
    "version": 3
   },
   "file_extension": ".py",
   "mimetype": "text/x-python",
   "name": "python",
   "nbconvert_exporter": "python",
   "pygments_lexer": "ipython3",
   "version": "3.6.10"
  }
 },
 "nbformat": 4,
 "nbformat_minor": 4
}
